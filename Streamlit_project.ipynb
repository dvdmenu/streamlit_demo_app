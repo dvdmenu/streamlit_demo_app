{
 "cells": [
  {
   "cell_type": "code",
   "execution_count": 1,
   "id": "22d069c7-2afe-4d66-9d2f-d5fe3cdbc6a7",
   "metadata": {
    "tags": []
   },
   "outputs": [
    {
     "name": "stderr",
     "output_type": "stream",
     "text": [
      "2023-11-13 13:21:42.372 \n",
      "  \u001b[33m\u001b[1mWarning:\u001b[0m to view this Streamlit app on a browser, run it with the following\n",
      "  command:\n",
      "\n",
      "    streamlit run C:\\Users\\Lenovo\\anaconda3\\Lib\\site-packages\\ipykernel_launcher.py [ARGUMENTS]\n"
     ]
    },
    {
     "data": {
      "text/plain": [
       "DeltaGenerator()"
      ]
     },
     "execution_count": 1,
     "metadata": {},
     "output_type": "execute_result"
    }
   ],
   "source": [
    "import streamlit as sl\n",
    "import pandas as pd\n",
    "\n",
    "#read data\n",
    "df = pd.read_csv('https://raw.githubusercontent.com/dvdmenu/streamlit_demo_app/main/P4-Movie-Ratings.csv')\n",
    "\n",
    "df.head()\n",
    "\n",
    "sl.title(\"Title\")\n",
    "sl.write(\"Titles are written with 'sl.title('your text')', this is written in 'sl.write()' '\")\n",
    "\n",
    "#this will create a scrollable window for the dataframe\n",
    "sl.write(df)\n",
    "\n",
    "\n",
    "\n",
    "sl.bar_chart(data=df, x='Audience Ratings %', y='Budget (million $)', use_container_width=True)"
   ]
  },
  {
   "cell_type": "code",
   "execution_count": 2,
   "id": "d251256c-4c52-42af-a9f7-75f6b9c2d696",
   "metadata": {
    "tags": []
   },
   "outputs": [
    {
     "name": "stdout",
     "output_type": "stream",
     "text": [
      "<class 'pandas.core.frame.DataFrame'>\n",
      "RangeIndex: 559 entries, 0 to 558\n",
      "Data columns (total 6 columns):\n",
      " #   Column                     Non-Null Count  Dtype \n",
      "---  ------                     --------------  ----- \n",
      " 0   Film                       559 non-null    object\n",
      " 1   Genre                      559 non-null    object\n",
      " 2   Rotten Tomatoes Ratings %  559 non-null    int64 \n",
      " 3   Audience Ratings %         559 non-null    int64 \n",
      " 4   Budget (million $)         559 non-null    int64 \n",
      " 5   Year of release            559 non-null    int64 \n",
      "dtypes: int64(4), object(2)\n",
      "memory usage: 26.3+ KB\n"
     ]
    }
   ],
   "source": [
    "df.info()"
   ]
  },
  {
   "cell_type": "code",
   "execution_count": 6,
   "id": "3cdf493e-5c31-4c2d-a713-c5a5f943b699",
   "metadata": {
    "tags": []
   },
   "outputs": [
    {
     "data": {
      "text/plain": [
       "count     559.000000\n",
       "mean     2009.152057\n",
       "std         1.362632\n",
       "min      2007.000000\n",
       "25%      2008.000000\n",
       "50%      2009.000000\n",
       "75%      2010.000000\n",
       "max      2011.000000\n",
       "Name: Year of release, dtype: float64"
      ]
     },
     "execution_count": 6,
     "metadata": {},
     "output_type": "execute_result"
    }
   ],
   "source": [
    "df['Year of release'].describe()"
   ]
  },
  {
   "cell_type": "markdown",
   "id": "0641d589-5f43-4557-909f-34e099d9fbab",
   "metadata": {},
   "source": [
    "## Data Cleaning: Inflation data"
   ]
  },
  {
   "cell_type": "code",
   "execution_count": 21,
   "id": "0243aac5-eda1-4727-a28c-ad3fe09acc02",
   "metadata": {
    "tags": []
   },
   "outputs": [],
   "source": [
    "# Retrieved inflation from consumer price index, filtered by USA.\n",
    "# base period 2010 = 100. This means that if 2011 CPI equals 115, prices have gone up 15 % from 2010. \n",
    "# https://databank.worldbank.org/reports.aspx?source=2&series=FP.CPI.TOTL&country=USA#"
   ]
  },
  {
   "cell_type": "code",
   "execution_count": 9,
   "id": "54d085d3-0ce5-45c2-ace4-2404474583da",
   "metadata": {
    "tags": []
   },
   "outputs": [
    {
     "data": {
      "text/html": [
       "<div>\n",
       "<style scoped>\n",
       "    .dataframe tbody tr th:only-of-type {\n",
       "        vertical-align: middle;\n",
       "    }\n",
       "\n",
       "    .dataframe tbody tr th {\n",
       "        vertical-align: top;\n",
       "    }\n",
       "\n",
       "    .dataframe thead th {\n",
       "        text-align: right;\n",
       "    }\n",
       "</style>\n",
       "<table border=\"1\" class=\"dataframe\">\n",
       "  <thead>\n",
       "    <tr style=\"text-align: right;\">\n",
       "      <th></th>\n",
       "      <th>Series Name</th>\n",
       "      <th>Series Code</th>\n",
       "      <th>Country Name</th>\n",
       "      <th>Country Code</th>\n",
       "      <th>1960 [YR1960]</th>\n",
       "      <th>1961 [YR1961]</th>\n",
       "      <th>1962 [YR1962]</th>\n",
       "      <th>1963 [YR1963]</th>\n",
       "      <th>1964 [YR1964]</th>\n",
       "      <th>1965 [YR1965]</th>\n",
       "      <th>...</th>\n",
       "      <th>2013 [YR2013]</th>\n",
       "      <th>2014 [YR2014]</th>\n",
       "      <th>2015 [YR2015]</th>\n",
       "      <th>2016 [YR2016]</th>\n",
       "      <th>2017 [YR2017]</th>\n",
       "      <th>2018 [YR2018]</th>\n",
       "      <th>2019 [YR2019]</th>\n",
       "      <th>2020 [YR2020]</th>\n",
       "      <th>2021 [YR2021]</th>\n",
       "      <th>2022 [YR2022]</th>\n",
       "    </tr>\n",
       "  </thead>\n",
       "  <tbody>\n",
       "    <tr>\n",
       "      <th>0</th>\n",
       "      <td>Consumer price index (2010 = 100)</td>\n",
       "      <td>FP.CPI.TOTL</td>\n",
       "      <td>United States</td>\n",
       "      <td>USA</td>\n",
       "      <td>13.563061</td>\n",
       "      <td>13.708284</td>\n",
       "      <td>13.872615</td>\n",
       "      <td>14.04459</td>\n",
       "      <td>14.224207</td>\n",
       "      <td>14.449685</td>\n",
       "      <td>...</td>\n",
       "      <td>106.833849</td>\n",
       "      <td>108.566932</td>\n",
       "      <td>108.695722</td>\n",
       "      <td>110.067009</td>\n",
       "      <td>112.411557</td>\n",
       "      <td>115.157303</td>\n",
       "      <td>117.244195</td>\n",
       "      <td>118.690502</td>\n",
       "      <td>124.266414</td>\n",
       "      <td>134.211206</td>\n",
       "    </tr>\n",
       "    <tr>\n",
       "      <th>1</th>\n",
       "      <td>NaN</td>\n",
       "      <td>NaN</td>\n",
       "      <td>NaN</td>\n",
       "      <td>NaN</td>\n",
       "      <td>NaN</td>\n",
       "      <td>NaN</td>\n",
       "      <td>NaN</td>\n",
       "      <td>NaN</td>\n",
       "      <td>NaN</td>\n",
       "      <td>NaN</td>\n",
       "      <td>...</td>\n",
       "      <td>NaN</td>\n",
       "      <td>NaN</td>\n",
       "      <td>NaN</td>\n",
       "      <td>NaN</td>\n",
       "      <td>NaN</td>\n",
       "      <td>NaN</td>\n",
       "      <td>NaN</td>\n",
       "      <td>NaN</td>\n",
       "      <td>NaN</td>\n",
       "      <td>NaN</td>\n",
       "    </tr>\n",
       "    <tr>\n",
       "      <th>2</th>\n",
       "      <td>NaN</td>\n",
       "      <td>NaN</td>\n",
       "      <td>NaN</td>\n",
       "      <td>NaN</td>\n",
       "      <td>NaN</td>\n",
       "      <td>NaN</td>\n",
       "      <td>NaN</td>\n",
       "      <td>NaN</td>\n",
       "      <td>NaN</td>\n",
       "      <td>NaN</td>\n",
       "      <td>...</td>\n",
       "      <td>NaN</td>\n",
       "      <td>NaN</td>\n",
       "      <td>NaN</td>\n",
       "      <td>NaN</td>\n",
       "      <td>NaN</td>\n",
       "      <td>NaN</td>\n",
       "      <td>NaN</td>\n",
       "      <td>NaN</td>\n",
       "      <td>NaN</td>\n",
       "      <td>NaN</td>\n",
       "    </tr>\n",
       "    <tr>\n",
       "      <th>3</th>\n",
       "      <td>NaN</td>\n",
       "      <td>NaN</td>\n",
       "      <td>NaN</td>\n",
       "      <td>NaN</td>\n",
       "      <td>NaN</td>\n",
       "      <td>NaN</td>\n",
       "      <td>NaN</td>\n",
       "      <td>NaN</td>\n",
       "      <td>NaN</td>\n",
       "      <td>NaN</td>\n",
       "      <td>...</td>\n",
       "      <td>NaN</td>\n",
       "      <td>NaN</td>\n",
       "      <td>NaN</td>\n",
       "      <td>NaN</td>\n",
       "      <td>NaN</td>\n",
       "      <td>NaN</td>\n",
       "      <td>NaN</td>\n",
       "      <td>NaN</td>\n",
       "      <td>NaN</td>\n",
       "      <td>NaN</td>\n",
       "    </tr>\n",
       "    <tr>\n",
       "      <th>4</th>\n",
       "      <td>Data from database: World Development Indicators</td>\n",
       "      <td>NaN</td>\n",
       "      <td>NaN</td>\n",
       "      <td>NaN</td>\n",
       "      <td>NaN</td>\n",
       "      <td>NaN</td>\n",
       "      <td>NaN</td>\n",
       "      <td>NaN</td>\n",
       "      <td>NaN</td>\n",
       "      <td>NaN</td>\n",
       "      <td>...</td>\n",
       "      <td>NaN</td>\n",
       "      <td>NaN</td>\n",
       "      <td>NaN</td>\n",
       "      <td>NaN</td>\n",
       "      <td>NaN</td>\n",
       "      <td>NaN</td>\n",
       "      <td>NaN</td>\n",
       "      <td>NaN</td>\n",
       "      <td>NaN</td>\n",
       "      <td>NaN</td>\n",
       "    </tr>\n",
       "  </tbody>\n",
       "</table>\n",
       "<p>5 rows × 67 columns</p>\n",
       "</div>"
      ],
      "text/plain": [
       "                                        Series Name  Series Code  \\\n",
       "0                 Consumer price index (2010 = 100)  FP.CPI.TOTL   \n",
       "1                                               NaN          NaN   \n",
       "2                                               NaN          NaN   \n",
       "3                                               NaN          NaN   \n",
       "4  Data from database: World Development Indicators          NaN   \n",
       "\n",
       "    Country Name Country Code  1960 [YR1960]  1961 [YR1961]  1962 [YR1962]  \\\n",
       "0  United States          USA      13.563061      13.708284      13.872615   \n",
       "1            NaN          NaN            NaN            NaN            NaN   \n",
       "2            NaN          NaN            NaN            NaN            NaN   \n",
       "3            NaN          NaN            NaN            NaN            NaN   \n",
       "4            NaN          NaN            NaN            NaN            NaN   \n",
       "\n",
       "   1963 [YR1963]  1964 [YR1964]  1965 [YR1965]  ...  2013 [YR2013]  \\\n",
       "0       14.04459      14.224207      14.449685  ...     106.833849   \n",
       "1            NaN            NaN            NaN  ...            NaN   \n",
       "2            NaN            NaN            NaN  ...            NaN   \n",
       "3            NaN            NaN            NaN  ...            NaN   \n",
       "4            NaN            NaN            NaN  ...            NaN   \n",
       "\n",
       "   2014 [YR2014]  2015 [YR2015]  2016 [YR2016]  2017 [YR2017]  2018 [YR2018]  \\\n",
       "0     108.566932     108.695722     110.067009     112.411557     115.157303   \n",
       "1            NaN            NaN            NaN            NaN            NaN   \n",
       "2            NaN            NaN            NaN            NaN            NaN   \n",
       "3            NaN            NaN            NaN            NaN            NaN   \n",
       "4            NaN            NaN            NaN            NaN            NaN   \n",
       "\n",
       "   2019 [YR2019]  2020 [YR2020]  2021 [YR2021]  2022 [YR2022]  \n",
       "0     117.244195     118.690502     124.266414     134.211206  \n",
       "1            NaN            NaN            NaN            NaN  \n",
       "2            NaN            NaN            NaN            NaN  \n",
       "3            NaN            NaN            NaN            NaN  \n",
       "4            NaN            NaN            NaN            NaN  \n",
       "\n",
       "[5 rows x 67 columns]"
      ]
     },
     "execution_count": 9,
     "metadata": {},
     "output_type": "execute_result"
    }
   ],
   "source": [
    "infl = pd.read_excel('inflation_yearly.xlsx')\n",
    "infl.head()"
   ]
  },
  {
   "cell_type": "code",
   "execution_count": 16,
   "id": "3ae604d7-a8e8-4ae1-bf1e-d95c3b7e5486",
   "metadata": {
    "tags": []
   },
   "outputs": [],
   "source": [
    "drop_these = [1,2,3,4,5]\n",
    "infl = infl.drop(index=drop_these)"
   ]
  },
  {
   "cell_type": "code",
   "execution_count": 24,
   "id": "21a7ad38-ebcb-41c3-9895-68ea34f26836",
   "metadata": {
    "tags": []
   },
   "outputs": [],
   "source": [
    "drop_columns = ['Series Name', 'Country Name', 'Country Code', 'Series Code']\n",
    "infl = infl.drop(columns=drop_columns)"
   ]
  },
  {
   "cell_type": "code",
   "execution_count": 25,
   "id": "39f5aec2-f69c-4765-9194-d9dc25c96fc5",
   "metadata": {
    "tags": []
   },
   "outputs": [
    {
     "data": {
      "text/html": [
       "<div>\n",
       "<style scoped>\n",
       "    .dataframe tbody tr th:only-of-type {\n",
       "        vertical-align: middle;\n",
       "    }\n",
       "\n",
       "    .dataframe tbody tr th {\n",
       "        vertical-align: top;\n",
       "    }\n",
       "\n",
       "    .dataframe thead th {\n",
       "        text-align: right;\n",
       "    }\n",
       "</style>\n",
       "<table border=\"1\" class=\"dataframe\">\n",
       "  <thead>\n",
       "    <tr style=\"text-align: right;\">\n",
       "      <th></th>\n",
       "      <th>Year</th>\n",
       "      <th>InflationRate</th>\n",
       "    </tr>\n",
       "  </thead>\n",
       "  <tbody>\n",
       "    <tr>\n",
       "      <th>0</th>\n",
       "      <td>1960 [YR1960]</td>\n",
       "      <td>13.563061</td>\n",
       "    </tr>\n",
       "    <tr>\n",
       "      <th>1</th>\n",
       "      <td>1961 [YR1961]</td>\n",
       "      <td>13.708284</td>\n",
       "    </tr>\n",
       "    <tr>\n",
       "      <th>2</th>\n",
       "      <td>1962 [YR1962]</td>\n",
       "      <td>13.872615</td>\n",
       "    </tr>\n",
       "    <tr>\n",
       "      <th>3</th>\n",
       "      <td>1963 [YR1963]</td>\n",
       "      <td>14.044590</td>\n",
       "    </tr>\n",
       "    <tr>\n",
       "      <th>4</th>\n",
       "      <td>1964 [YR1964]</td>\n",
       "      <td>14.224207</td>\n",
       "    </tr>\n",
       "    <tr>\n",
       "      <th>...</th>\n",
       "      <td>...</td>\n",
       "      <td>...</td>\n",
       "    </tr>\n",
       "    <tr>\n",
       "      <th>58</th>\n",
       "      <td>2018 [YR2018]</td>\n",
       "      <td>115.157303</td>\n",
       "    </tr>\n",
       "    <tr>\n",
       "      <th>59</th>\n",
       "      <td>2019 [YR2019]</td>\n",
       "      <td>117.244195</td>\n",
       "    </tr>\n",
       "    <tr>\n",
       "      <th>60</th>\n",
       "      <td>2020 [YR2020]</td>\n",
       "      <td>118.690502</td>\n",
       "    </tr>\n",
       "    <tr>\n",
       "      <th>61</th>\n",
       "      <td>2021 [YR2021]</td>\n",
       "      <td>124.266414</td>\n",
       "    </tr>\n",
       "    <tr>\n",
       "      <th>62</th>\n",
       "      <td>2022 [YR2022]</td>\n",
       "      <td>134.211206</td>\n",
       "    </tr>\n",
       "  </tbody>\n",
       "</table>\n",
       "<p>63 rows × 2 columns</p>\n",
       "</div>"
      ],
      "text/plain": [
       "             Year  InflationRate\n",
       "0   1960 [YR1960]      13.563061\n",
       "1   1961 [YR1961]      13.708284\n",
       "2   1962 [YR1962]      13.872615\n",
       "3   1963 [YR1963]      14.044590\n",
       "4   1964 [YR1964]      14.224207\n",
       "..            ...            ...\n",
       "58  2018 [YR2018]     115.157303\n",
       "59  2019 [YR2019]     117.244195\n",
       "60  2020 [YR2020]     118.690502\n",
       "61  2021 [YR2021]     124.266414\n",
       "62  2022 [YR2022]     134.211206\n",
       "\n",
       "[63 rows x 2 columns]"
      ]
     },
     "execution_count": 25,
     "metadata": {},
     "output_type": "execute_result"
    }
   ],
   "source": [
    "melted_infl = pd.melt(infl, var_name='Year', value_name='InflationRate')\n",
    "melted_infl"
   ]
  },
  {
   "cell_type": "code",
   "execution_count": 34,
   "id": "fcbf6e76-3ac7-48aa-af62-7fa52e6f7feb",
   "metadata": {
    "tags": []
   },
   "outputs": [],
   "source": [
    "melted_infl['Year'] = melted_infl['Year'].str.extract(r'(\\d{4})').astype(int)"
   ]
  },
  {
   "cell_type": "code",
   "execution_count": 36,
   "id": "82fb92c7-c83a-4731-a69c-8155f2de75bf",
   "metadata": {
    "tags": []
   },
   "outputs": [
    {
     "name": "stdout",
     "output_type": "stream",
     "text": [
      "<class 'pandas.core.frame.DataFrame'>\n",
      "RangeIndex: 63 entries, 0 to 62\n",
      "Data columns (total 2 columns):\n",
      " #   Column         Non-Null Count  Dtype  \n",
      "---  ------         --------------  -----  \n",
      " 0   Year           63 non-null     int32  \n",
      " 1   InflationRate  63 non-null     float64\n",
      "dtypes: float64(1), int32(1)\n",
      "memory usage: 888.0 bytes\n"
     ]
    }
   ],
   "source": [
    "melted_infl.info()"
   ]
  },
  {
   "cell_type": "markdown",
   "id": "c4043fc6-9212-4fcc-9dd4-ddf373b0e278",
   "metadata": {},
   "source": [
    " ## Feature engineering: Adding inflation corrected budgets to dataframe"
   ]
  },
  {
   "cell_type": "code",
   "execution_count": 37,
   "id": "2bd6f638-0452-4246-b00d-8e297735feac",
   "metadata": {
    "tags": []
   },
   "outputs": [
    {
     "name": "stdout",
     "output_type": "stream",
     "text": [
      "<class 'pandas.core.frame.DataFrame'>\n",
      "RangeIndex: 559 entries, 0 to 558\n",
      "Data columns (total 6 columns):\n",
      " #   Column                     Non-Null Count  Dtype \n",
      "---  ------                     --------------  ----- \n",
      " 0   Film                       559 non-null    object\n",
      " 1   Genre                      559 non-null    object\n",
      " 2   Rotten Tomatoes Ratings %  559 non-null    int64 \n",
      " 3   Audience Ratings %         559 non-null    int64 \n",
      " 4   Budget (million $)         559 non-null    int64 \n",
      " 5   Year of release            559 non-null    int64 \n",
      "dtypes: int64(4), object(2)\n",
      "memory usage: 26.3+ KB\n"
     ]
    }
   ],
   "source": [
    "df.info()"
   ]
  },
  {
   "cell_type": "code",
   "execution_count": 46,
   "id": "9f208f83-12b1-451e-a1ef-33ae7a3c83e5",
   "metadata": {
    "tags": []
   },
   "outputs": [],
   "source": [
    "# add yearly inflation rate to dataframe.\n",
    "# there might be a more elegant solution than to have the yearly inflation rate on every row, but I am following a procedure from Maven Analytics' Data Prep & EDA course "
   ]
  },
  {
   "cell_type": "code",
   "execution_count": 39,
   "id": "dd32c03d-b158-420b-93ad-e963d1b1c145",
   "metadata": {
    "tags": []
   },
   "outputs": [],
   "source": [
    "df = pd.merge(df, melted_infl, left_on='Year of release', right_on='Year', how='inner')"
   ]
  },
  {
   "cell_type": "code",
   "execution_count": 43,
   "id": "a87da188-e25d-47e6-9730-c1b8d17e88d3",
   "metadata": {
    "tags": []
   },
   "outputs": [],
   "source": [
    "df.drop('Year', axis=1, inplace=True)"
   ]
  },
  {
   "cell_type": "code",
   "execution_count": 44,
   "id": "45da2f49-4cb4-4b6d-92b0-f0d76ed477a1",
   "metadata": {
    "tags": []
   },
   "outputs": [
    {
     "data": {
      "text/html": [
       "<div>\n",
       "<style scoped>\n",
       "    .dataframe tbody tr th:only-of-type {\n",
       "        vertical-align: middle;\n",
       "    }\n",
       "\n",
       "    .dataframe tbody tr th {\n",
       "        vertical-align: top;\n",
       "    }\n",
       "\n",
       "    .dataframe thead th {\n",
       "        text-align: right;\n",
       "    }\n",
       "</style>\n",
       "<table border=\"1\" class=\"dataframe\">\n",
       "  <thead>\n",
       "    <tr style=\"text-align: right;\">\n",
       "      <th></th>\n",
       "      <th>Film</th>\n",
       "      <th>Genre</th>\n",
       "      <th>Rotten Tomatoes Ratings %</th>\n",
       "      <th>Audience Ratings %</th>\n",
       "      <th>Budget (million $)</th>\n",
       "      <th>Year of release</th>\n",
       "      <th>InflationRate</th>\n",
       "    </tr>\n",
       "  </thead>\n",
       "  <tbody>\n",
       "    <tr>\n",
       "      <th>0</th>\n",
       "      <td>(500) Days of Summer</td>\n",
       "      <td>Comedy</td>\n",
       "      <td>87</td>\n",
       "      <td>81</td>\n",
       "      <td>8</td>\n",
       "      <td>2009</td>\n",
       "      <td>98.386420</td>\n",
       "    </tr>\n",
       "    <tr>\n",
       "      <th>1</th>\n",
       "      <td>12 Rounds</td>\n",
       "      <td>Action</td>\n",
       "      <td>30</td>\n",
       "      <td>52</td>\n",
       "      <td>20</td>\n",
       "      <td>2009</td>\n",
       "      <td>98.386420</td>\n",
       "    </tr>\n",
       "    <tr>\n",
       "      <th>2</th>\n",
       "      <td>17 Again</td>\n",
       "      <td>Comedy</td>\n",
       "      <td>55</td>\n",
       "      <td>70</td>\n",
       "      <td>20</td>\n",
       "      <td>2009</td>\n",
       "      <td>98.386420</td>\n",
       "    </tr>\n",
       "    <tr>\n",
       "      <th>3</th>\n",
       "      <td>2012</td>\n",
       "      <td>Action</td>\n",
       "      <td>39</td>\n",
       "      <td>63</td>\n",
       "      <td>200</td>\n",
       "      <td>2009</td>\n",
       "      <td>98.386420</td>\n",
       "    </tr>\n",
       "    <tr>\n",
       "      <th>4</th>\n",
       "      <td>A Serious Man</td>\n",
       "      <td>Drama</td>\n",
       "      <td>89</td>\n",
       "      <td>64</td>\n",
       "      <td>7</td>\n",
       "      <td>2009</td>\n",
       "      <td>98.386420</td>\n",
       "    </tr>\n",
       "    <tr>\n",
       "      <th>...</th>\n",
       "      <td>...</td>\n",
       "      <td>...</td>\n",
       "      <td>...</td>\n",
       "      <td>...</td>\n",
       "      <td>...</td>\n",
       "      <td>...</td>\n",
       "      <td>...</td>\n",
       "    </tr>\n",
       "    <tr>\n",
       "      <th>554</th>\n",
       "      <td>We Bought a Zoo</td>\n",
       "      <td>Comedy</td>\n",
       "      <td>63</td>\n",
       "      <td>79</td>\n",
       "      <td>50</td>\n",
       "      <td>2011</td>\n",
       "      <td>103.156842</td>\n",
       "    </tr>\n",
       "    <tr>\n",
       "      <th>555</th>\n",
       "      <td>What's Your Number</td>\n",
       "      <td>Comedy</td>\n",
       "      <td>24</td>\n",
       "      <td>50</td>\n",
       "      <td>20</td>\n",
       "      <td>2011</td>\n",
       "      <td>103.156842</td>\n",
       "    </tr>\n",
       "    <tr>\n",
       "      <th>556</th>\n",
       "      <td>X-Men: First Class</td>\n",
       "      <td>Action</td>\n",
       "      <td>87</td>\n",
       "      <td>88</td>\n",
       "      <td>160</td>\n",
       "      <td>2011</td>\n",
       "      <td>103.156842</td>\n",
       "    </tr>\n",
       "    <tr>\n",
       "      <th>557</th>\n",
       "      <td>Your Highness</td>\n",
       "      <td>Comedy</td>\n",
       "      <td>26</td>\n",
       "      <td>36</td>\n",
       "      <td>50</td>\n",
       "      <td>2011</td>\n",
       "      <td>103.156842</td>\n",
       "    </tr>\n",
       "    <tr>\n",
       "      <th>558</th>\n",
       "      <td>Zookeeper</td>\n",
       "      <td>Comedy</td>\n",
       "      <td>14</td>\n",
       "      <td>42</td>\n",
       "      <td>80</td>\n",
       "      <td>2011</td>\n",
       "      <td>103.156842</td>\n",
       "    </tr>\n",
       "  </tbody>\n",
       "</table>\n",
       "<p>559 rows × 7 columns</p>\n",
       "</div>"
      ],
      "text/plain": [
       "                      Film   Genre  Rotten Tomatoes Ratings %  \\\n",
       "0    (500) Days of Summer   Comedy                         87   \n",
       "1               12 Rounds   Action                         30   \n",
       "2                17 Again   Comedy                         55   \n",
       "3                     2012  Action                         39   \n",
       "4           A Serious Man    Drama                         89   \n",
       "..                     ...     ...                        ...   \n",
       "554        We Bought a Zoo  Comedy                         63   \n",
       "555     What's Your Number  Comedy                         24   \n",
       "556     X-Men: First Class  Action                         87   \n",
       "557          Your Highness  Comedy                         26   \n",
       "558              Zookeeper  Comedy                         14   \n",
       "\n",
       "     Audience Ratings %  Budget (million $)  Year of release  InflationRate  \n",
       "0                    81                   8             2009      98.386420  \n",
       "1                    52                  20             2009      98.386420  \n",
       "2                    70                  20             2009      98.386420  \n",
       "3                    63                 200             2009      98.386420  \n",
       "4                    64                   7             2009      98.386420  \n",
       "..                  ...                 ...              ...            ...  \n",
       "554                  79                  50             2011     103.156842  \n",
       "555                  50                  20             2011     103.156842  \n",
       "556                  88                 160             2011     103.156842  \n",
       "557                  36                  50             2011     103.156842  \n",
       "558                  42                  80             2011     103.156842  \n",
       "\n",
       "[559 rows x 7 columns]"
      ]
     },
     "execution_count": 44,
     "metadata": {},
     "output_type": "execute_result"
    }
   ],
   "source": [
    "df"
   ]
  },
  {
   "cell_type": "code",
   "execution_count": null,
   "id": "6f9c4f76-1ae5-47be-9e23-b568f54c23be",
   "metadata": {},
   "outputs": [],
   "source": []
  }
 ],
 "metadata": {
  "kernelspec": {
   "display_name": "Python 3 (ipykernel)",
   "language": "python",
   "name": "python3"
  },
  "language_info": {
   "codemirror_mode": {
    "name": "ipython",
    "version": 3
   },
   "file_extension": ".py",
   "mimetype": "text/x-python",
   "name": "python",
   "nbconvert_exporter": "python",
   "pygments_lexer": "ipython3",
   "version": "3.11.5"
  }
 },
 "nbformat": 4,
 "nbformat_minor": 5
}
